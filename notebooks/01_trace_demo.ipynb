{
  "cells": [
    {
      "cell_type": "markdown",
      "metadata": {},
      "source": [
        "# MedDSL-Lite Trace Demo\n",
        "\n",
        "This notebook demonstrates the MedDSL-Lite system by running a diabetic retinopathy triage case through the rule engine and generating explanations.\n"
      ]
    },
    {
      "cell_type": "code",
      "execution_count": null,
      "metadata": {},
      "outputs": [],
      "source": [
        "import sys\n",
        "import os\n",
        "import json\n",
        "import pandas as pd\n",
        "import matplotlib.pyplot as plt\n",
        "from pathlib import Path\n",
        "\n",
        "# Add the parent directory to the path to import mddsl\n",
        "sys.path.append(str(Path.cwd().parent))\n",
        "\n",
        "from mddsl import execute, explain, SnippetRetriever\n",
        "from mddsl.interpreter import load_dsl_from_file\n"
      ]
    },
    {
      "cell_type": "markdown",
      "metadata": {},
      "source": [
        "## Load Case Data and Rules\n"
      ]
    },
    {
      "cell_type": "code",
      "execution_count": null,
      "metadata": {},
      "outputs": [],
      "source": [
        "# Load the DSL rules\n",
        "dsl = load_dsl_from_file(\"../rules/dr_triage_v1.yaml\")\n",
        "print(\"Loaded DSL with\", len(dsl[\"nodes\"]), \"nodes\")\n",
        "print(\"Profile:\", dsl[\"meta\"][\"profile\"])\n",
        "print(\"Version:\", dsl[\"meta\"][\"version\"])\n"
      ]
    },
    {
      "cell_type": "code",
      "execution_count": null,
      "metadata": {},
      "outputs": [],
      "source": [
        "# Load sample cases\n",
        "cases = []\n",
        "with open(\"../data/cases_small.jsonl\", \"r\") as f:\n",
        "    for line in f:\n",
        "        if line.strip():\n",
        "            cases.append(json.loads(line))\n",
        "\n",
        "print(f\"Loaded {len(cases)} cases\")\n",
        "\n",
        "# Display first case\n",
        "print(\"\\nFirst case:\")\n",
        "print(json.dumps(cases[0], indent=2))\n"
      ]
    },
    {
      "cell_type": "markdown",
      "metadata": {},
      "source": [
        "## Execute DSL on Sample Case\n"
      ]
    },
    {
      "cell_type": "code",
      "execution_count": null,
      "metadata": {},
      "outputs": [],
      "source": [
        "# Select a case for demonstration (severe NPDR with vision reduced)\n",
        "demo_case = cases[0]  # Severe NPDR case\n",
        "\n",
        "print(\"Demo case:\")\n",
        "print(json.dumps(demo_case, indent=2))\n",
        "\n",
        "# Execute the DSL\n",
        "actions, trace = execute(dsl, demo_case)\n",
        "\n",
        "print(\"\\nActions taken:\")\n",
        "for i, action in enumerate(actions, 1):\n",
        "    print(f\"{i}. {action}\")\n"
      ]
    },
    {
      "cell_type": "markdown",
      "metadata": {},
      "source": [
        "## Generate Explanation\n"
      ]
    },
    {
      "cell_type": "code",
      "execution_count": null,
      "metadata": {},
      "outputs": [],
      "source": [
        "# Initialize snippet retriever\n",
        "retriever = SnippetRetriever(\"../snippets\")\n",
        "\n",
        "# Generate explanation\n",
        "explanation = explain(demo_case, actions, trace, retriever)\n",
        "\n",
        "print(\"=== EXPLANATION ===\\n\")\n",
        "print(\"Case Summary:\")\n",
        "print(json.dumps(explanation[\"case_summary\"], indent=2))\n",
        "\n",
        "print(\"\\nRule Trace:\")\n",
        "for bullet in explanation[\"rule_trace\"]:\n",
        "    print(bullet)\n",
        "\n",
        "print(\"\\nActions:\")\n",
        "print(json.dumps(explanation[\"actions_json\"], indent=2))\n",
        "\n",
        "if explanation[\"citations\"]:\n",
        "    print(\"\\nCitations:\")\n",
        "    for citation in explanation[\"citations\"]:\n",
        "        print(f\"  • {citation}\")\n",
        "\n",
        "print(\"\\nProse:\")\n",
        "print(explanation[\"prose\"])\n"
      ]
    }
  ],
  "metadata": {
    "language_info": {
      "name": "python"
    }
  },
  "nbformat": 4,
  "nbformat_minor": 2
}
